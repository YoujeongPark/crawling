{
 "cells": [
  {
   "cell_type": "code",
   "execution_count": 6,
   "metadata": {},
   "outputs": [],
   "source": [
    "from selenium import webdriver\n",
    "driver = webdriver.Chrome('D:\\chromedriver.exe')"
   ]
  },
  {
   "cell_type": "code",
   "execution_count": 7,
   "metadata": {},
   "outputs": [],
   "source": [
    "url = 'https://www.melon.com/chart/index.htm'\n",
    "driver.get(url)"
   ]
  },
  {
   "cell_type": "code",
   "execution_count": 8,
   "metadata": {},
   "outputs": [],
   "source": [
    "songs = driver.find_elements_by_css_selector('#lst50')"
   ]
  },
  {
   "cell_type": "code",
   "execution_count": 9,
   "metadata": {},
   "outputs": [
    {
     "name": "stdout",
     "output_type": "stream",
     "text": [
      "에잇(Prod.&Feat. SUGA of BTS)|아이유\n",
      "사랑하게 될 줄 알았어|전미도\n",
      "아로하|조정석\n",
      "MORE & MORE|TWICE (트와이스)\n",
      "깡 Official Remix|식케이 (Sik-K)\n",
      "살짝 설렜어 (Nonstop)|오마이걸\n",
      "나비와 고양이 (feat.백현 (BAEKHYUN))|볼빨간사춘기\n",
      "Candy|백현 (BAEKHYUN)\n",
      "ON|방탄소년단\n",
      "좋은 사람 있으면 소개시켜줘|조이 (JOY)\n",
      "너에게 난, 나에게 넌|미도와 파라솔\n",
      "화려하지 않은 고백|규현 (KYUHYUN)\n",
      "Dolphin|오마이걸\n",
      "시작|가호 (Gaho)\n",
      "작은 것들을 위한 시 (Boy With Luv) (Feat. Halsey)|방탄소년단\n",
      "처음처럼|엠씨더맥스 (M.C the MAX)\n",
      "Dance Monkey|Tones And I\n",
      "흔들리는 꽃들 속에서 네 샴푸향이 느껴진거야|장범준\n",
      "너를 사랑하고 있어|백현 (BAEKHYUN)\n",
      "아무노래|지코 (ZICO)\n",
      "그대 고운 내사랑|어반자카파\n",
      "덤더럼(Dumhdurum)|Apink (에이핑크)\n",
      "어떻게 지내 (Prod. By VAN.C)|오반\n",
      "이제 나만 믿어요|임영웅\n",
      "Memories|Maroon 5\n",
      "Blueming|아이유\n",
      "METEOR|창모 (CHANGMO)\n",
      "00:00 (Zero O’Clock)|방탄소년단\n",
      "Don't Start Now|Dua Lipa\n",
      "Black Swan|방탄소년단\n",
      "Bungee|백현 (BAEKHYUN)\n",
      "내 눈물 모아|휘인 (Whee In)\n",
      "친구|방탄소년단\n",
      "Love Again|백현 (BAEKHYUN)\n",
      "마음을 드려요|아이유\n",
      "Filter|방탄소년단\n",
      "2002|Anne-Marie\n",
      "Poppin'|백현 (BAEKHYUN)\n",
      "어떻게 지내 (답가)|런치\n",
      "Moon|방탄소년단\n",
      "시차|방탄소년단\n",
      "너에게 가는 이 길 위에서 (너.이.길)|백현 (BAEKHYUN)\n",
      "Underwater|백현 (BAEKHYUN)\n",
      "그때 그 아인|김필\n",
      "Inner Child|방탄소년단\n",
      "We are Bulletproof : the Eternal|방탄소년단\n",
      "돌덩이|하현우 (국카스텐)\n",
      "R U Ridin'?|백현 (BAEKHYUN)\n",
      "Happy|태연 (TAEYEON)\n",
      "Ghost|백현 (BAEKHYUN)\n"
     ]
    }
   ],
   "source": [
    "for song in songs:\n",
    "    title = song.find_elements_by_css_selector('div.ellipsis.rank01 > span > a')[0].text\n",
    "    singer = song.find_elements_by_css_selector('div.ellipsis.rank02  > a')[0].text\n",
    "    print(title, singer, sep = \"|\")"
   ]
  },
  {
   "cell_type": "code",
   "execution_count": null,
   "metadata": {},
   "outputs": [],
   "source": []
  }
 ],
 "metadata": {
  "kernelspec": {
   "display_name": "py36",
   "language": "python",
   "name": "py36"
  },
  "language_info": {
   "codemirror_mode": {
    "name": "ipython",
    "version": 3
   },
   "file_extension": ".py",
   "mimetype": "text/x-python",
   "name": "python",
   "nbconvert_exporter": "python",
   "pygments_lexer": "ipython3",
   "version": "3.6.10"
  }
 },
 "nbformat": 4,
 "nbformat_minor": 4
}
